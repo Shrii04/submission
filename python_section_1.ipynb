{
 "cells": [
  {
   "cell_type": "code",
   "execution_count": 1,
   "id": "8c05b5c2",
   "metadata": {},
   "outputs": [
    {
     "name": "stdout",
     "output_type": "stream",
     "text": [
      "[3, 2, 1, 6, 5, 4, 8, 7]\n",
      "[2, 1, 4, 3, 5]\n",
      "[40, 30, 20, 10, 70, 60, 50]\n"
     ]
    }
   ],
   "source": [
    "from typing import List\n",
    "\n",
    "def reverse_by_n_elements(lst: List[int], n: int) -> List[int]:\n",
    "    \"\"\"\n",
    "    Reverses the input list by groups of n elements.\n",
    "    \"\"\"\n",
    "    result = []\n",
    "    \n",
    "    for i in range(0, len(lst), n):\n",
    "        group = lst[i:i+n]  \n",
    "        result.extend(group[::-1])  \n",
    "    \n",
    "    return result\n",
    "print(reverse_by_n_elements([1, 2, 3, 4, 5, 6, 7, 8], 3)) \n",
    "print(reverse_by_n_elements([1, 2, 3, 4, 5], 2))           \n",
    "print(reverse_by_n_elements([10, 20, 30, 40, 50, 60, 70], 4))  \n"
   ]
  },
  {
   "cell_type": "code",
   "execution_count": 2,
   "id": "d03fb362",
   "metadata": {},
   "outputs": [
    {
     "name": "stdout",
     "output_type": "stream",
     "text": [
      "{3: ['bat', 'car', 'dog'], 4: ['bear'], 5: ['apple'], 8: ['elephant']}\n",
      "{3: ['one', 'two'], 4: ['four'], 5: ['three']}\n"
     ]
    }
   ],
   "source": [
    "from typing import List, Dict\n",
    "\n",
    "def group_by_length(lst: List[str]) -> Dict[int, List[str]]:\n",
    "    length_dict = {}\n",
    "    \n",
    "    for string in lst:\n",
    "        length = len(string)\n",
    "        if length not in length_dict:\n",
    "            length_dict[length] = []\n",
    "        length_dict[length].append(string)\n",
    "    \n",
    "    return dict(sorted(length_dict.items()))\n",
    "\n",
    "print(group_by_length([\"apple\", \"bat\", \"car\", \"elephant\", \"dog\", \"bear\"]))\n",
    "print(group_by_length([\"one\", \"two\", \"three\", \"four\"]))"
   ]
  },
  {
   "cell_type": "code",
   "execution_count": 3,
   "id": "33f63fca",
   "metadata": {},
   "outputs": [
    {
     "name": "stdout",
     "output_type": "stream",
     "text": [
      "{'road.name': 'Highway 1', 'road.length': 350, 'road.sections[0].id': 1, 'road.sections[0].condition.pavement': 'good', 'road.sections[0].condition.traffic': 'moderate'}\n"
     ]
    }
   ],
   "source": [
    "from typing import Dict\n",
    "\n",
    "def flatten_dict(nested_dict: Dict, sep: str = '.') -> Dict:\n",
    "    \"\"\"\n",
    "    Flattens a nested dictionary into a single-level dictionary with dot notation for keys.\n",
    "    \n",
    "    :param nested_dict: The dictionary object to flatten\n",
    "    :param sep: The separator to use between parent and child keys (defaults to '.')\n",
    "    :return: A flattened dictionary\n",
    "    \"\"\"\n",
    "    flattened = {}\n",
    "\n",
    "    def _flatten(current_dict, parent_key=\"\"):\n",
    "        for key, value in current_dict.items():\n",
    "            new_key = f\"{parent_key}{sep}{key}\" if parent_key else key\n",
    "            if isinstance(value, dict):\n",
    "                _flatten(value, new_key)  \n",
    "            elif isinstance(value, list):\n",
    "                for i, item in enumerate(value):\n",
    "                    if isinstance(item, dict):\n",
    "                        _flatten(item, f\"{new_key}[{i}]\") \n",
    "                    else:\n",
    "                        flattened[f\"{new_key}[{i}]\"] = item\n",
    "            else:\n",
    "                flattened[new_key] = value\n",
    "\n",
    "    _flatten(nested_dict)\n",
    "    return flattened\n",
    "\n",
    "nested_dict = {\n",
    "    \"road\": {\n",
    "        \"name\": \"Highway 1\",\n",
    "        \"length\": 350,\n",
    "        \"sections\": [\n",
    "            {\n",
    "                \"id\": 1,\n",
    "                \"condition\": {\n",
    "                    \"pavement\": \"good\",\n",
    "                    \"traffic\": \"moderate\"\n",
    "                }\n",
    "            }\n",
    "        ]\n",
    "    }\n",
    "}\n",
    "\n",
    "result = flatten_dict(nested_dict)\n",
    "print(result)\n",
    "\n"
   ]
  },
  {
   "cell_type": "code",
   "execution_count": 16,
   "id": "c8a446ad",
   "metadata": {},
   "outputs": [
    {
     "name": "stdout",
     "output_type": "stream",
     "text": [
      "[1, 2, 1]\n",
      "[2, 1, 1]\n",
      "[1, 1, 2]\n"
     ]
    }
   ],
   "source": [
    "from itertools import permutations\n",
    "from typing import List\n",
    "\n",
    "def unique_permutations(nums: List[int]) -> List[List[int]]:\n",
    "    \"\"\"\n",
    "    Generate all unique permutations of a list that may contain duplicates.\n",
    "    \n",
    "    :param nums: List of integers (may contain duplicates)\n",
    "    :return: List of unique permutations\n",
    "    \"\"\"\n",
    "    result = list(set(permutations(nums)))\n",
    "    return result\n",
    "\n",
    "if __name__ == \"__main__\":\n",
    "    input_list = [1, 1, 2]\n",
    "    result = unique_permutations(input_list)\n",
    "    for perm in result:\n",
    "        print(list(perm))\n"
   ]
  },
  {
   "cell_type": "code",
   "execution_count": 15,
   "id": "f13e8411",
   "metadata": {},
   "outputs": [
    {
     "name": "stdout",
     "output_type": "stream",
     "text": [
      "['23-08-1994', '08/23/1994', '1994.08.23']\n"
     ]
    }
   ],
   "source": [
    "import re\n",
    "from typing import List\n",
    "\n",
    "def find_all_dates(text: str) -> List[str]:\n",
    "    \"\"\"\n",
    "    This function takes a string as input and returns a list of valid dates\n",
    "    in 'dd-mm-yyyy', 'mm/dd/yyyy', or 'yyyy.mm.dd' format found in the string.\n",
    "    \n",
    "    Parameters:\n",
    "    text (str): A string containing the dates in various formats.\n",
    "\n",
    "    Returns:\n",
    "    List[str]: A list of valid dates in the formats specified.\n",
    "    \"\"\"\n",
    "    patterns = [\n",
    "        r'\\b\\d{2}-\\d{2}-\\d{4}\\b',  # Matches 'dd-mm-yyyy'\n",
    "        r'\\b\\d{2}/\\d{2}/\\d{4}\\b',  # Matches 'mm/dd/yyyy'\n",
    "        r'\\b\\d{4}\\.\\d{2}\\.\\d{2}\\b'  # Matches 'yyyy.mm.dd'\n",
    "    ]\n",
    "    \n",
    "    combined_pattern = '|'.join(patterns)\n",
    "    dates = re.findall(combined_pattern, text)\n",
    "    \n",
    "    return dates\n",
    "\n",
    "if __name__ == \"__main__\":\n",
    "    text = \"I was born on 23-08-1994, my friend on 08/23/1994, and another one on 1994.08.23.\"\n",
    "    output = find_all_dates(text)\n",
    "    print(output)\n"
   ]
  },
  {
   "cell_type": "code",
   "execution_count": 17,
   "id": "b29fc0f6",
   "metadata": {},
   "outputs": [
    {
     "name": "stdout",
     "output_type": "stream",
     "text": [
      "   latitude  longitude    distance\n",
      "0  51.11755    2.83158    0.000000\n",
      "1  51.11733    2.83180   28.883199\n",
      "2  51.11825    2.82732  329.009663\n",
      "3  51.11394    2.82700  479.770379\n",
      "4  51.11375    2.82662   33.911399\n"
     ]
    }
   ],
   "source": [
    "import pandas as pd\n",
    "import numpy as np\n",
    "import polyline  \n",
    "\n",
    "def haversine(lat1, lon1, lat2, lon2):\n",
    "    \"\"\"\n",
    "    Calculate the great-circle distance between two points \n",
    "    on the Earth (specified in decimal degrees).\n",
    "    \"\"\"\n",
    "    R = 6371000  \n",
    "    phi1 = np.radians(lat1)\n",
    "    phi2 = np.radians(lat2)\n",
    "    delta_phi = np.radians(lat2 - lat1)\n",
    "    delta_lambda = np.radians(lon2 - lon1)\n",
    "\n",
    "    a = np.sin(delta_phi / 2)**2 + np.cos(phi1) * np.cos(phi2) * np.sin(delta_lambda / 2)**2\n",
    "    c = 2 * np.arctan2(np.sqrt(a), np.sqrt(1 - a))\n",
    "\n",
    "    return R * c  \n",
    "\n",
    "def polyline_to_dataframe(polyline_str: str) -> pd.DataFrame:\n",
    "    \"\"\"\n",
    "    Converts a polyline string into a DataFrame with latitude, longitude, and distance between consecutive points.\n",
    "    \n",
    "    Args:\n",
    "        polyline_str (str): The encoded polyline string.\n",
    "\n",
    "    Returns:\n",
    "        pd.DataFrame: A DataFrame containing latitude, longitude, and distance in meters.\n",
    "    \"\"\"\n",
    "    coordinates = polyline.decode(polyline_str)\n",
    "    \n",
    "    df = pd.DataFrame(coordinates, columns=['latitude', 'longitude'])\n",
    "\n",
    "    distances = [0]  \n",
    "    for i in range(1, len(df)):\n",
    "        dist = haversine(df.iloc[i-1]['latitude'], df.iloc[i-1]['longitude'],\n",
    "                         df.iloc[i]['latitude'], df.iloc[i]['longitude'])\n",
    "        distances.append(dist)  \n",
    "\n",
    "    df['distance'] = distances \n",
    "    \n",
    "    return df\n",
    "\n",
    "if __name__ == \"__main__\":\n",
    "    polyline_str = \"u{~vHk`hPj@k@wD~Z|Y~@d@jA\"  \n",
    "    df = polyline_to_dataframe(polyline_str)\n",
    "    print(df)\n"
   ]
  },
  {
   "cell_type": "code",
   "execution_count": 13,
   "id": "e816ed87",
   "metadata": {},
   "outputs": [
    {
     "name": "stdout",
     "output_type": "stream",
     "text": [
      "[[14, 12, 4], [8, 10, 6], [0, 6, 6]]\n"
     ]
    }
   ],
   "source": [
    "from typing import List\n",
    "\n",
    "def rotate_matrix(matrix: List[List[int]]) -> List[List[int]]:\n",
    "    \"\"\"\n",
    "    Rotate the given matrix by 90 degrees clockwise.\n",
    "\n",
    "    Args:\n",
    "    - matrix (List[List[int]]): 2D list representing the matrix to be rotated.\n",
    "    \n",
    "    Returns:\n",
    "    - List[List[int]]: A new 2D list representing the rotated matrix.\n",
    "    \"\"\"\n",
    "    n = len(matrix)\n",
    "    return [[matrix[n - j - 1][i] for j in range(n)] for i in range(n)]\n",
    "\n",
    "def rotate_and_multiply_matrix(matrix: List[List[int]]) -> List[List[int]]:\n",
    "    \"\"\"\n",
    "    Rotate the given matrix by 90 degrees clockwise, then multiply each element \n",
    "    by the sum of its original row and column index before rotation.\n",
    "    \n",
    "    Args:\n",
    "    - matrix (List[List[int]]): 2D list representing the matrix to be transformed.\n",
    "    \n",
    "    Returns:\n",
    "    - List[List[int]]: A new 2D list representing the transformed matrix.\n",
    "    \"\"\"\n",
    "    n = len(matrix)\n",
    "    rotated_matrix = rotate_matrix(matrix)\n",
    "    transformed_matrix = [[0] * n for _ in range(n)]\n",
    "    \n",
    "    for i in range(n):\n",
    "        for j in range(n):\n",
    "            original_row = j\n",
    "            original_col = n - 1 - i\n",
    "            multiplication_factor = original_row + original_col\n",
    "            transformed_matrix[i][j] = rotated_matrix[i][j] * multiplication_factor\n",
    "            \n",
    "    return transformed_matrix\n",
    "\n",
    "if __name__ == \"__main__\":\n",
    "    matrix = [[1, 2, 3],\n",
    "              [4, 5, 6],\n",
    "              [7, 8, 9]]\n",
    "    final_matrix = rotate_and_multiply_matrix(matrix)\n",
    "    print(final_matrix)\n"
   ]
  },
  {
   "cell_type": "code",
   "execution_count": 18,
   "id": "b453d11e",
   "metadata": {},
   "outputs": [],
   "source": [
    "import pandas as pd\n",
    "\n",
    "def time_check(df) -> pd.Series:\n",
    "    \"\"\"\n",
    "    Use shared dataset-2 to verify the completeness of the data by checking whether the timestamps for each unique (`id`, `id_2`) pair cover a full 24-hour and 7 days period.\n",
    "\n",
    "    Args:\n",
    "        df (pandas.DataFrame)\n",
    "\n",
    "    Returns:\n",
    "        pd.Series: return a boolean series\n",
    "    \"\"\"\n",
    "    days_of_week = {'Monday': 0, 'Tuesday': 1, 'Wednesday': 2, 'Thursday': 3, \n",
    "                    'Friday': 4, 'Saturday': 5, 'Sunday': 6}\n",
    "\n",
    "    df['startDay_num'] = df['startDay'].map(days_of_week)\n",
    "    df['endDay_num'] = df['endDay'].map(days_of_week)\n",
    "\n",
    "    grouped = df.groupby(['id', 'id_2'])\n",
    "    coverage_check = []\n",
    "\n",
    "    for (id_val, id_2_val), group in grouped:\n",
    "        week_coverage = {i: [] for i in range(7)}\n",
    "        \n",
    "        for _, row in group.iterrows():\n",
    "            start_day = row['startDay_num']\n",
    "            end_day = row['endDay_num']\n",
    "            start_time = row['startTime']\n",
    "            end_time = row['endTime']\n",
    "\n",
    "            current_day = start_day\n",
    "            while current_day != end_day:\n",
    "                week_coverage[current_day].append((start_time, '23:59:59'))\n",
    "                current_day = (current_day + 1) % 7\n",
    "                start_time = '00:00:00'\n",
    "                \n",
    "            week_coverage[end_day].append((start_time, end_time))\n",
    "\n",
    "        full_week = True\n",
    "        for day, times in week_coverage.items():\n",
    "            if len(times) == 0:  \n",
    "                full_week = False\n",
    "                break\n",
    "            times = sorted(times)\n",
    "            if times[0][0] != '00:00:00' or times[-1][1] != '23:59:59':\n",
    "                full_week = False\n",
    "                break\n",
    "            for i in range(1, len(times)):\n",
    "                if times[i-1][1] != times[i][0]:\n",
    "                    full_week = False\n",
    "                    break\n",
    "            if not full_week:\n",
    "                break\n",
    "        \n",
    "        coverage_check.append(((id_val, id_2_val), not full_week))\n",
    "    \n",
    "    index = pd.MultiIndex.from_tuples([x[0] for x in coverage_check], names=['id', 'id_2'])\n",
    "    return pd.Series([x[1] for x in coverage_check], index=index)\n"
   ]
  },
  {
   "cell_type": "code",
   "execution_count": null,
   "id": "05cfb291",
   "metadata": {},
   "outputs": [],
   "source": []
  }
 ],
 "metadata": {
  "kernelspec": {
   "display_name": "Python 3 (ipykernel)",
   "language": "python",
   "name": "python3"
  },
  "language_info": {
   "codemirror_mode": {
    "name": "ipython",
    "version": 3
   },
   "file_extension": ".py",
   "mimetype": "text/x-python",
   "name": "python",
   "nbconvert_exporter": "python",
   "pygments_lexer": "ipython3",
   "version": "3.9.12"
  }
 },
 "nbformat": 4,
 "nbformat_minor": 5
}
